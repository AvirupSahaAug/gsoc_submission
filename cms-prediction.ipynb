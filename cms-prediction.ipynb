{
 "cells": [
  {
   "cell_type": "code",
   "execution_count": 1,
   "id": "4bddd99c",
   "metadata": {
    "_cell_guid": "9cd125ac-2ff1-446d-86a2-6fad7fbe7cc4",
    "_uuid": "11b60e64-8f71-4cf8-9ebe-afc4c73643d9",
    "collapsed": false,
    "execution": {
     "iopub.execute_input": "2025-04-02T05:57:40.904814Z",
     "iopub.status.busy": "2025-04-02T05:57:40.904468Z",
     "iopub.status.idle": "2025-04-02T05:57:58.839841Z",
     "shell.execute_reply": "2025-04-02T05:57:58.838854Z"
    },
    "jupyter": {
     "outputs_hidden": false
    },
    "papermill": {
     "duration": 17.944121,
     "end_time": "2025-04-02T05:57:58.841598",
     "exception": false,
     "start_time": "2025-04-02T05:57:40.897477",
     "status": "completed"
    },
    "tags": []
   },
   "outputs": [
    {
     "name": "stdout",
     "output_type": "stream",
     "text": [
      "Xelectron_data shape: (249000, 32, 32, 2)\n",
      "yelectron_data shape: (249000,) 1.0\n",
      "Xphoton_data shape: (249000, 32, 32, 2)\n",
      "yphoton_data shape: (249000,) 0.0\n"
     ]
    },
    {
     "data": {
      "image/png": "[encoded data removed]",
      "text/plain": [
       "<Figure size 400x200 with 2 Axes>"
      ]
     },
     "metadata": {},
     "output_type": "display_data"
    },
    {
     "data": {
      "image/png": "[encoded data removed]",
      "text/plain": [
       "<Figure size 400x200 with 2 Axes>"
      ]
     },
     "metadata": {},
     "output_type": "display_data"
    }
   ],
   "source": [
    "import h5py\n",
    "import matplotlib.pyplot as plt\n",
    "import numpy as np\n",
    "\n",
    "\n",
    "def load_hdf5_data(file_path):\n",
    "    with h5py.File(file_path, 'r') as file:\n",
    "        X_data = file['X'][:]\n",
    "        y_data = file['y'][:]\n",
    "    return X_data, y_data\n",
    "\n",
    "def visualize_sample(sample, title_prefix=''):\n",
    "    channel_1 = sample[:, :, 0]\n",
    "    channel_2 = sample[:, :, 1]\n",
    "\n",
    "    fig, axs = plt.subplots(1, 2, figsize=(4, 2))\n",
    "    axs[0].imshow(channel_1, cmap='viridis')\n",
    "    axs[0].set_title(f'{title_prefix} Channel 1 (Hit Energy)')\n",
    "    axs[0].axis('off')\n",
    "\n",
    "    axs[1].imshow(channel_2, cmap='viridis')\n",
    "    axs[1].set_title(f'{title_prefix} Channel 2 (Hit Time)')\n",
    "    axs[1].axis('off')\n",
    "\n",
    "    plt.tight_layout()\n",
    "    plt.show()\n",
    "\n",
    "# File paths\n",
    "electron_file = '/kaggle/input/some-electron-data-or-smthin-from-cern/SingleElectronPt50_IMGCROPS_n249k_RHv1.hdf5'\n",
    "photon_file = '/kaggle/input/some-electron-data-or-smthin-from-cern/SinglePhotonPt50_IMGCROPS_n249k_RHv1.hdf5'\n",
    "\n",
    "# Load data\n",
    "Xelectron_data, yelectron_data = load_hdf5_data(electron_file)\n",
    "Xphoton_data, yphoton_data = load_hdf5_data(photon_file)\n",
    "Xelectron_data=np.array(Xelectron_data)\n",
    "Xphoton_data=np.array(Xphoton_data)\n",
    "yelectron_data=np.array(yelectron_data)\n",
    "yphoton_data=np.array(yphoton_data)\n",
    "X=np.concatenate((Xphoton_data,Xelectron_data))\n",
    "y=np.concatenate((yphoton_data,yelectron_data))\n",
    "# Print shapes\n",
    "print(\"Xelectron_data shape:\", Xelectron_data.shape)\n",
    "print(\"yelectron_data shape:\", yelectron_data.shape,max(yelectron_data))\n",
    "print(\"Xphoton_data shape:\", Xphoton_data.shape)\n",
    "print(\"yphoton_data shape:\", yphoton_data.shape,max(yphoton_data))\n",
    "\n",
    "# Visualize samples\n",
    "visualize_sample(Xelectron_data[0], 'Electron')\n",
    "visualize_sample(Xphoton_data[0], 'Photon')"
   ]
  },
  {
   "cell_type": "code",
   "execution_count": 2,
   "id": "d0810dfc",
   "metadata": {
    "_cell_guid": "31474e38-434f-4330-a9eb-f697304b29be",
    "_uuid": "27e1237b-fcb2-4fdc-9324-f540d5b33afb",
    "collapsed": false,
    "execution": {
     "iopub.execute_input": "2025-04-02T05:57:58.855195Z",
     "iopub.status.busy": "2025-04-02T05:57:58.854756Z",
     "iopub.status.idle": "2025-04-02T05:58:00.578247Z",
     "shell.execute_reply": "2025-04-02T05:58:00.577315Z"
    },
    "jupyter": {
     "outputs_hidden": false
    },
    "papermill": {
     "duration": 1.731516,
     "end_time": "2025-04-02T05:58:00.579763",
     "exception": false,
     "start_time": "2025-04-02T05:57:58.848247",
     "status": "completed"
    },
    "tags": []
   },
   "outputs": [
    {
     "name": "stdout",
     "output_type": "stream",
     "text": [
      "<class 'list'>\n",
      "[338700, 489249, 67957, 346195, 319296, 382889, 133660, 98534, 176359, 278435, 101695, 184404, 439212, 497676, 300197, 447080, 254978, 407036, 124815, 254539, 194753, 40295, 71265, 49868, 268203, 143887, 124999, 171291, 159058, 275983, 421575, 188127, 138999, 377917, 482137, 160233, 225736, 405393, 244590, 122223, 268002, 230905, 444186, 74087, 22803, 92405, 170772, 416185, 54803, 416977, 26343, 457589, 203475, 478498, 8432, 83012, 486211, 448656, 149309, 97402, 363454, 253012, 429123, 294683, 181683, 202437, 131150, 258408, 216809, 229635, 447763, 119360, 338127, 97176, 177934, 413854, 45629, 250654, 335978, 138058, 147699, 302780, 38310, 34164, 372197, 394256, 328679, 101316, 404910, 393461, 113591, 69012, 15913, 38023, 225972, 47016, 438095, 180028, 367845, 402689]\n"
     ]
    },
    {
     "data": {
      "text/plain": [
       "((498000, 32, 32, 2), (498000, 32, 32, 2), (498000,), (498000,))"
      ]
     },
     "execution_count": 2,
     "metadata": {},
     "output_type": "execute_result"
    }
   ],
   "source": [
    "import random \n",
    "a=list(range(len(X)))\n",
    "random.shuffle(a) \n",
    "print(type(a))\n",
    "print(a[:100])\n",
    "Xsh=X[a]\n",
    "ysh=y[a]\n",
    "Xsh.shape,X.shape,y.shape,ysh.shape"
   ]
  },
  {
   "cell_type": "code",
   "execution_count": 3,
   "id": "3489adf8",
   "metadata": {
    "_cell_guid": "c925a3c0-5a7a-4bad-bbbf-c07350a9ec91",
    "_uuid": "5d21b6e4-7173-438b-8db3-ffebe0daeb5d",
    "collapsed": false,
    "execution": {
     "iopub.execute_input": "2025-04-02T05:58:00.591430Z",
     "iopub.status.busy": "2025-04-02T05:58:00.591189Z",
     "iopub.status.idle": "2025-04-02T05:58:05.992942Z",
     "shell.execute_reply": "2025-04-02T05:58:05.992002Z"
    },
    "jupyter": {
     "outputs_hidden": false
    },
    "papermill": {
     "duration": 5.409161,
     "end_time": "2025-04-02T05:58:05.994583",
     "exception": false,
     "start_time": "2025-04-02T05:58:00.585422",
     "status": "completed"
    },
    "tags": []
   },
   "outputs": [
    {
     "data": {
      "text/plain": [
       "tensor([0, 1])"
      ]
     },
     "execution_count": 3,
     "metadata": {},
     "output_type": "execute_result"
    }
   ],
   "source": [
    "import torch\n",
    "Xsh_tensor = torch.tensor(Xsh, dtype=torch.float32)  # Convert to tensor with appropriate dtype\n",
    "Xsh_tensor = Xsh_tensor.permute(0, 3, 1, 2)\n",
    "\n",
    "import torch.nn.functional as F\n",
    "\n",
    "# Example tensor with values 1 and 0\n",
    "yshtensor = torch.tensor(ysh,dtype=torch.int64)\n",
    "\n",
    "# One-hot encoding (assuming two classes: 0 and 1)\n",
    "ysh_one_hot = F.one_hot(yshtensor, num_classes=2)\n",
    "ysh_one_hot.to(torch.float32)\n",
    "torch.unique(yshtensor)"
   ]
  },
  {
   "cell_type": "code",
   "execution_count": 4,
   "id": "11d2f75f",
   "metadata": {
    "_cell_guid": "425c3c30-db03-4948-9b7c-c9d15de4786f",
    "_uuid": "8706e0a0-49c9-4513-b192-becfbbf6b827",
    "collapsed": false,
    "execution": {
     "iopub.execute_input": "2025-04-02T05:58:06.006385Z",
     "iopub.status.busy": "2025-04-02T05:58:06.005944Z",
     "iopub.status.idle": "2025-04-02T05:58:06.010742Z",
     "shell.execute_reply": "2025-04-02T05:58:06.010053Z"
    },
    "jupyter": {
     "outputs_hidden": false
    },
    "papermill": {
     "duration": 0.011975,
     "end_time": "2025-04-02T05:58:06.011945",
     "exception": false,
     "start_time": "2025-04-02T05:58:05.999970",
     "status": "completed"
    },
    "tags": []
   },
   "outputs": [
    {
     "data": {
      "text/plain": [
       "torch.Size([498000, 2, 32, 32])"
      ]
     },
     "execution_count": 4,
     "metadata": {},
     "output_type": "execute_result"
    }
   ],
   "source": [
    "Xsh_tensor.shape"
   ]
  },
  {
   "cell_type": "code",
   "execution_count": 5,
   "id": "920cc351",
   "metadata": {
    "_cell_guid": "f8874846-1e30-49d8-8eeb-7cc1d55360d6",
    "_uuid": "c62945f1-a9a8-44db-a6ac-9cc16e0a77f8",
    "collapsed": false,
    "execution": {
     "iopub.execute_input": "2025-04-02T05:58:06.023305Z",
     "iopub.status.busy": "2025-04-02T05:58:06.023065Z",
     "iopub.status.idle": "2025-04-02T05:58:07.535893Z",
     "shell.execute_reply": "2025-04-02T05:58:07.535081Z"
    },
    "jupyter": {
     "outputs_hidden": false
    },
    "papermill": {
     "duration": 1.520171,
     "end_time": "2025-04-02T05:58:07.537539",
     "exception": false,
     "start_time": "2025-04-02T05:58:06.017368",
     "status": "completed"
    },
    "tags": []
   },
   "outputs": [],
   "source": [
    "import torch\n",
    "from torch.utils.data import DataLoader, TensorDataset\n",
    "torch.cuda.empty_cache()\n",
    "\n",
    "batch_size =256# You can adjust this based on your memory constraints\n",
    "\n",
    "device = torch.device(\"cuda\" if torch.cuda.is_available() else \"cpu\")\n",
    "\n",
    "Xsh_tensor=Xsh_tensor.to(device)\n",
    "tr=int(0.8*len(Xsh_tensor))\n",
    "ysh_one_hot=ysh_one_hot.float()\n",
    "ysh_one_hot=ysh_one_hot.to(device)\n",
    "yshtensor=yshtensor.long()\n",
    "yshtensor=yshtensor.to(device)\n",
    "dataset = TensorDataset(Xsh_tensor[:tr], ysh_one_hot[:tr])\n",
    "# dataset.to(device)\n",
    "dataset2 =TensorDataset(Xsh_tensor[:tr], yshtensor[:tr])\n",
    "train_loader = DataLoader(dataset, batch_size=batch_size, shuffle=False)\n",
    "train_loader2 = DataLoader(dataset2, batch_size=batch_size, shuffle=False)\n",
    "full=TensorDataset(Xsh_tensor,ysh_one_hot)\n",
    "full_loader=DataLoader(full,batch_size=batch_size,shuffle=False)\n",
    "test=TensorDataset(Xsh_tensor[tr:],ysh_one_hot[tr:])\n",
    "test_loader=DataLoader(test,batch_size=batch_size,shuffle=False)\n",
    "#2\n",
    "full2=TensorDataset(Xsh_tensor,yshtensor)\n",
    "full_loader2=DataLoader(full2,batch_size=batch_size,shuffle=False)\n",
    "test2=TensorDataset(Xsh_tensor[tr:],yshtensor[tr:])\n",
    "test_loader2=DataLoader(test2,batch_size=batch_size,shuffle=False)"
   ]
  },
  {
   "cell_type": "code",
   "execution_count": 6,
   "id": "cab773c3",
   "metadata": {
    "_cell_guid": "2fceec19-de5d-40a1-bd09-37f895c359f1",
    "_uuid": "4a4b297f-6524-4450-97b8-92e317713d59",
    "collapsed": false,
    "execution": {
     "iopub.execute_input": "2025-04-02T05:58:07.549438Z",
     "iopub.status.busy": "2025-04-02T05:58:07.549161Z",
     "iopub.status.idle": "2025-04-02T05:58:07.555969Z",
     "shell.execute_reply": "2025-04-02T05:58:07.555305Z"
    },
    "jupyter": {
     "outputs_hidden": false
    },
    "papermill": {
     "duration": 0.014346,
     "end_time": "2025-04-02T05:58:07.557370",
     "exception": false,
     "start_time": "2025-04-02T05:58:07.543024",
     "status": "completed"
    },
    "tags": []
   },
   "outputs": [],
   "source": [
    "from tqdm import tqdm\n",
    "def accuracy(model, dataloader, device):\n",
    "    model.eval()  # Set model to evaluation mode\n",
    "    correct = 0\n",
    "    total = 0\n",
    "    \n",
    "    with torch.no_grad():  # Disable gradient computation\n",
    "        for inputs, targets in tqdm( dataloader):\n",
    "            inputs, targets = inputs.to(device), targets.to(device)\n",
    "            \n",
    "            outputs = model(inputs)  # Get predictions\n",
    "            predicted = outputs.argmax(dim=1)  # Convert logits to class indices\n",
    "            \n",
    "            correct += (predicted == targets).sum().item()\n",
    "            total += targets.size(0)\n",
    "    \n",
    "    return correct / total  # Return accuracy as a fraction\n",
    "def acc():\n",
    "    a=[]\n",
    "    res.eval()\n",
    "    with torch.inference_mode():\n",
    "        for batch_idx, (inputs, targets) in enumerate(test_loader2):\n",
    "            test_preds=res(inputs)\n",
    "            a.append(accuracy(test_preds,targets))\n",
    "    print(f'test acc:{sum(a)/len(test_loader)//0.01/100}')\n",
    "def acc2():\n",
    "    a=[]\n",
    "    res.eval()\n",
    "    with torch.inference_mode():\n",
    "        for batch_idx, (inputs, targets) in enumerate(train_loader2):\n",
    "            train_preds=res(inputs)\n",
    "            a.append(accuracy(train_preds,targets))\n",
    "    print(f'train acc:{sum(a)/len(train_loader)//0.01/100}  ',end=\"\")"
   ]
  },
  {
   "cell_type": "code",
   "execution_count": 7,
   "id": "a90606a3",
   "metadata": {
    "_cell_guid": "695e0c0e-d788-4ee1-961d-8c31458150ba",
    "_uuid": "b7472c7f-a681-4498-ace3-5dd0b4e4dbbe",
    "collapsed": false,
    "execution": {
     "iopub.execute_input": "2025-04-02T05:58:07.568695Z",
     "iopub.status.busy": "2025-04-02T05:58:07.568460Z",
     "iopub.status.idle": "2025-04-02T05:58:07.579774Z",
     "shell.execute_reply": "2025-04-02T05:58:07.578956Z"
    },
    "jupyter": {
     "outputs_hidden": false
    },
    "papermill": {
     "duration": 0.018535,
     "end_time": "2025-04-02T05:58:07.581105",
     "exception": false,
     "start_time": "2025-04-02T05:58:07.562570",
     "status": "completed"
    },
    "tags": []
   },
   "outputs": [],
   "source": [
    "import torch\n",
    "import torch.nn as nn\n",
    "\n",
    "class ConvBlock(nn.Module):\n",
    "    def __init__(self, in_channels, out_channels, kernel_size=3, stride=1, padding=1):\n",
    "        super().__init__()\n",
    "        self.conv = nn.Conv2d(in_channels, out_channels, kernel_size, stride, padding, bias=False)\n",
    "        self.bn = nn.BatchNorm2d(out_channels)\n",
    "        self.relu = nn.ReLU(inplace=True)\n",
    "\n",
    "    def forward(self, x):\n",
    "        return self.relu(self.bn(self.conv(x)))\n",
    "\n",
    "class SelfAttention(nn.Module):\n",
    "    def __init__(self, embed_dim):\n",
    "        super().__init__()\n",
    "        self.attn = nn.MultiheadAttention(embed_dim=embed_dim, num_heads=8, batch_first=True)\n",
    "\n",
    "    def forward(self, x):\n",
    "        x = x.unsqueeze(1)  # Convert to (batch, seq_len=1, features)\n",
    "        x, _ = self.attn(x, x, x)  # Self-attention\n",
    "        return x.squeeze(1)  # Remove sequence dimension\n",
    "\n",
    "class resnet(nn.Module):\n",
    "    def __init__(self, num_classes=2):\n",
    "        super().__init__()\n",
    "        # Initial convolutional layers (2 → 1024 channels)\n",
    "        self.initial = nn.Sequential(\n",
    "            ConvBlock(2, 256, kernel_size=7, stride=2, padding=3),\n",
    "            ConvBlock(256, 512, kernel_size=3, stride=2, padding=1),\n",
    "            ConvBlock(512, 1024, kernel_size=3, stride=2, padding=1)\n",
    "        )\n",
    "\n",
    "        # Adaptive Average Pooling\n",
    "        self.avgpool = nn.AdaptiveAvgPool2d((1, 1))\n",
    "\n",
    "        # 14 Fully Connected Layers with Residual Connections\n",
    "        self.fc_layers = nn.ModuleList()\n",
    "        in_features = 1024\n",
    "\n",
    "        for _ in range(7):  # Each \"block\" has 2 FCs with skip connection\n",
    "            self.fc_layers.append(nn.Linear(in_features, 1024))\n",
    "            self.fc_layers.append(nn.BatchNorm1d(1024))\n",
    "            self.fc_layers.append(nn.ReLU(inplace=True))\n",
    "            self.fc_layers.append(nn.Linear(1024, 1024))\n",
    "            self.fc_layers.append(nn.BatchNorm1d(1024))\n",
    "\n",
    "        # Self-Attention after FC layers\n",
    "        self.attention = SelfAttention(embed_dim=1024)\n",
    "\n",
    "        # Final Layers: Dropout → FC → BN → Dropout → ReLU → FC\n",
    "        self.final_fc1 = nn.Linear(1024, 1024)\n",
    "        self.final_bn = nn.BatchNorm1d(1024)\n",
    "        self.dropout = nn.Dropout(0.2)\n",
    "        self.final_relu = nn.ReLU(inplace=True)\n",
    "        self.final_fc2 = nn.Linear(1024, num_classes)\n",
    "\n",
    "    def forward(self, x):\n",
    "        x = self.initial(x)\n",
    "        x = self.avgpool(x)\n",
    "        x = torch.flatten(x, 1)\n",
    "\n",
    "        # Fully Connected Layers with Skip Connections\n",
    "        for i in range(0, len(self.fc_layers), 5):\n",
    "            identity = x\n",
    "            x = self.fc_layers[i](x)\n",
    "            x = self.fc_layers[i + 1](x)\n",
    "            x = self.fc_layers[i + 2](x)\n",
    "            x = self.fc_layers[i + 3](x)\n",
    "            x = self.fc_layers[i + 4](x)\n",
    "            x += identity  # Skip connection\n",
    "            x = nn.ReLU(inplace=True)(x)  # Activation after skip\n",
    "\n",
    "        # Self-Attention\n",
    "        # x = self.attention(x)\n",
    "        # x = self.dropout(x)\n",
    "\n",
    "        # Final Layers\n",
    "        x = self.final_fc1(x)\n",
    "        x = self.final_bn(x)\n",
    "        x = self.dropout(x)\n",
    "        x = self.final_relu(x)\n",
    "        x = self.final_fc2(x)\n",
    "\n",
    "        return x\n"
   ]
  },
  {
   "cell_type": "code",
   "execution_count": 8,
   "id": "f2cee241",
   "metadata": {
    "_cell_guid": "133664ca-6a38-4258-af90-ad5b71118d00",
    "_uuid": "a5c7c27d-7e4f-46ad-ad32-bef684a36494",
    "collapsed": false,
    "execution": {
     "iopub.execute_input": "2025-04-02T05:58:07.592492Z",
     "iopub.status.busy": "2025-04-02T05:58:07.592276Z",
     "iopub.status.idle": "2025-04-02T05:58:07.595277Z",
     "shell.execute_reply": "2025-04-02T05:58:07.594639Z"
    },
    "jupyter": {
     "outputs_hidden": false
    },
    "papermill": {
     "duration": 0.009994,
     "end_time": "2025-04-02T05:58:07.596477",
     "exception": false,
     "start_time": "2025-04-02T05:58:07.586483",
     "status": "completed"
    },
    "tags": []
   },
   "outputs": [],
   "source": [
    "import torch"
   ]
  },
  {
   "cell_type": "code",
   "execution_count": 9,
   "id": "223607cc",
   "metadata": {
    "_cell_guid": "983829f3-7f2e-425a-95db-35f1dc1f3f81",
    "_uuid": "71262232-5aeb-4174-8cda-5d9452f7aae5",
    "collapsed": false,
    "execution": {
     "iopub.execute_input": "2025-04-02T05:58:07.607938Z",
     "iopub.status.busy": "2025-04-02T05:58:07.607665Z",
     "iopub.status.idle": "2025-04-02T05:58:07.888181Z",
     "shell.execute_reply": "2025-04-02T05:58:07.887249Z"
    },
    "jupyter": {
     "outputs_hidden": false
    },
    "papermill": {
     "duration": 0.288266,
     "end_time": "2025-04-02T05:58:07.889983",
     "exception": false,
     "start_time": "2025-04-02T05:58:07.601717",
     "status": "completed"
    },
    "tags": []
   },
   "outputs": [],
   "source": [
    "import torch.nn as nn\n",
    "mod=resnet()\n",
    "# mod.load_state_dict(torch.load(f=\"/kaggle/working/model 735.pth\"))\n",
    "mod=mod.to(device)\n",
    "# return\n",
    "res=mod.to(device)\n",
    "l=[]\n",
    "acclist=[]\n",
    "accelist=[]\n",
    "loss_fn=nn.CrossEntropyLoss()"
   ]
  },
  {
   "cell_type": "code",
   "execution_count": 10,
   "id": "f0cd5d62",
   "metadata": {
    "_cell_guid": "fa53d673-b1dc-4dca-a1d6-490c849aa012",
    "_uuid": "e0765490-b26d-4e59-b3a4-8a525f09034c",
    "collapsed": false,
    "execution": {
     "iopub.execute_input": "2025-04-02T05:58:07.901868Z",
     "iopub.status.busy": "2025-04-02T05:58:07.901616Z",
     "iopub.status.idle": "2025-04-02T05:58:11.627766Z",
     "shell.execute_reply": "2025-04-02T05:58:11.626869Z"
    },
    "jupyter": {
     "outputs_hidden": false
    },
    "papermill": {
     "duration": 3.733645,
     "end_time": "2025-04-02T05:58:11.629458",
     "exception": false,
     "start_time": "2025-04-02T05:58:07.895813",
     "status": "completed"
    },
    "tags": []
   },
   "outputs": [],
   "source": [
    "optimizer = torch.optim.Adam(res.parameters(), lr=0.03)\n",
    "\n",
    "# Learning Rate Scheduler\n",
    "scheduler = torch.optim.lr_scheduler.ReduceLROnPlateau(optimizer, mode='min', factor=0.3, patience=1)"
   ]
  },
  {
   "cell_type": "code",
   "execution_count": 11,
   "id": "26962781",
   "metadata": {
    "_cell_guid": "489a177e-9647-4db8-b9b4-3122813c86fb",
    "_uuid": "29ece429-13c8-4664-8e50-a2baec67ef47",
    "collapsed": false,
    "execution": {
     "iopub.execute_input": "2025-04-02T05:58:11.641719Z",
     "iopub.status.busy": "2025-04-02T05:58:11.641290Z",
     "iopub.status.idle": "2025-04-02T05:58:11.646472Z",
     "shell.execute_reply": "2025-04-02T05:58:11.645505Z"
    },
    "jupyter": {
     "outputs_hidden": false
    },
    "papermill": {
     "duration": 0.012387,
     "end_time": "2025-04-02T05:58:11.647754",
     "exception": false,
     "start_time": "2025-04-02T05:58:11.635367",
     "status": "completed"
    },
    "tags": []
   },
   "outputs": [
    {
     "name": "stdout",
     "output_type": "stream",
     "text": [
      "25902082\n"
     ]
    }
   ],
   "source": [
    "trainable_params = sum(p.numel() for p in res.parameters() if p.requires_grad)\n",
    "print(trainable_params)"
   ]
  },
  {
   "cell_type": "code",
   "execution_count": 12,
   "id": "ef177821",
   "metadata": {
    "_cell_guid": "32e60168-6ba7-469d-849f-e563e2053971",
    "_uuid": "42253186-fc26-4f79-8757-c6194bb152ba",
    "collapsed": false,
    "execution": {
     "iopub.execute_input": "2025-04-02T05:58:11.659523Z",
     "iopub.status.busy": "2025-04-02T05:58:11.659277Z",
     "iopub.status.idle": "2025-04-02T07:02:28.329805Z",
     "shell.execute_reply": "2025-04-02T07:02:28.328666Z"
    },
    "jupyter": {
     "outputs_hidden": false
    },
    "papermill": {
     "duration": 3856.678229,
     "end_time": "2025-04-02T07:02:28.331462",
     "exception": false,
     "start_time": "2025-04-02T05:58:11.653233",
     "status": "completed"
    },
    "tags": []
   },
   "outputs": [
    {
     "name": "stderr",
     "output_type": "stream",
     "text": [
      "Epoch 0: 100%|███████| 1557/1557 [01:30<00:00, 17.25it/s, loss=0.6906]\n"
     ]
    },
    {
     "name": "stdout",
     "output_type": "stream",
     "text": [
      "\n",
      "Epoch 0 - Avg Loss: 0.6906\n"
     ]
    },
    {
     "name": "stderr",
     "output_type": "stream",
     "text": [
      "100%|██████████| 1557/1557 [00:27<00:00, 55.97it/s]\n",
      "100%|██████████| 390/390 [00:07<00:00, 55.03it/s]\n"
     ]
    },
    {
     "name": "stdout",
     "output_type": "stream",
     "text": [
      "Train acc 0.6657730923694779 test acc 0.6640261044176707\n",
      "Current Learning Rate: 0.03\n"
     ]
    },
    {
     "name": "stderr",
     "output_type": "stream",
     "text": [
      "Epoch 1: 100%|███████| 1557/1557 [01:29<00:00, 17.45it/s, loss=0.5959]\n"
     ]
    },
    {
     "name": "stdout",
     "output_type": "stream",
     "text": [
      "\n",
      "Epoch 1 - Avg Loss: 0.5959\n"
     ]
    },
    {
     "name": "stderr",
     "output_type": "stream",
     "text": [
      "100%|██████████| 1557/1557 [00:27<00:00, 56.26it/s]\n",
      "100%|██████████| 390/390 [00:06<00:00, 56.55it/s]\n"
     ]
    },
    {
     "name": "stdout",
     "output_type": "stream",
     "text": [
      "Train acc 0.6766616465863454 test acc 0.6755421686746987\n",
      "Current Learning Rate: 0.03\n"
     ]
    },
    {
     "name": "stderr",
     "output_type": "stream",
     "text": [
      "Epoch 2: 100%|███████| 1557/1557 [01:29<00:00, 17.42it/s, loss=0.5758]\n"
     ]
    },
    {
     "name": "stdout",
     "output_type": "stream",
     "text": [
      "\n",
      "Epoch 2 - Avg Loss: 0.5758\n"
     ]
    },
    {
     "name": "stderr",
     "output_type": "stream",
     "text": [
      "100%|██████████| 1557/1557 [00:27<00:00, 56.10it/s]\n",
      "100%|██████████| 390/390 [00:06<00:00, 56.46it/s]\n"
     ]
    },
    {
     "name": "stdout",
     "output_type": "stream",
     "text": [
      "Train acc 0.7054593373493976 test acc 0.7061044176706828\n",
      "Current Learning Rate: 0.03\n",
      "Model saved\n"
     ]
    },
    {
     "name": "stderr",
     "output_type": "stream",
     "text": [
      "Epoch 3: 100%|███████| 1557/1557 [01:29<00:00, 17.45it/s, loss=0.5698]\n"
     ]
    },
    {
     "name": "stdout",
     "output_type": "stream",
     "text": [
      "\n",
      "Epoch 3 - Avg Loss: 0.5698\n"
     ]
    },
    {
     "name": "stderr",
     "output_type": "stream",
     "text": [
      "100%|██████████| 1557/1557 [00:27<00:00, 56.19it/s]\n",
      "100%|██████████| 390/390 [00:07<00:00, 55.22it/s]\n"
     ]
    },
    {
     "name": "stdout",
     "output_type": "stream",
     "text": [
      "Train acc 0.7121962851405622 test acc 0.7113955823293173\n",
      "Current Learning Rate: 0.03\n",
      "Model saved\n"
     ]
    },
    {
     "name": "stderr",
     "output_type": "stream",
     "text": [
      "Epoch 4: 100%|███████| 1557/1557 [01:29<00:00, 17.41it/s, loss=0.5665]\n"
     ]
    },
    {
     "name": "stdout",
     "output_type": "stream",
     "text": [
      "\n",
      "Epoch 4 - Avg Loss: 0.5665\n"
     ]
    },
    {
     "name": "stderr",
     "output_type": "stream",
     "text": [
      "100%|██████████| 1557/1557 [00:27<00:00, 55.77it/s]\n",
      "100%|██████████| 390/390 [00:06<00:00, 55.78it/s]\n"
     ]
    },
    {
     "name": "stdout",
     "output_type": "stream",
     "text": [
      "Train acc 0.6726104417670683 test acc 0.6719076305220884\n",
      "Current Learning Rate: 0.03\n"
     ]
    },
    {
     "name": "stderr",
     "output_type": "stream",
     "text": [
      "Epoch 5: 100%|███████| 1557/1557 [01:29<00:00, 17.37it/s, loss=0.5635]\n"
     ]
    },
    {
     "name": "stdout",
     "output_type": "stream",
     "text": [
      "\n",
      "Epoch 5 - Avg Loss: 0.5635\n"
     ]
    },
    {
     "name": "stderr",
     "output_type": "stream",
     "text": [
      "100%|██████████| 1557/1557 [00:27<00:00, 55.92it/s]\n",
      "100%|██████████| 390/390 [00:06<00:00, 56.27it/s]\n"
     ]
    },
    {
     "name": "stdout",
     "output_type": "stream",
     "text": [
      "Train acc 0.7244477911646586 test acc 0.7227409638554216\n",
      "Current Learning Rate: 0.009\n",
      "Model saved\n"
     ]
    },
    {
     "name": "stderr",
     "output_type": "stream",
     "text": [
      "Epoch 6: 100%|███████| 1557/1557 [01:29<00:00, 17.39it/s, loss=0.5508]\n"
     ]
    },
    {
     "name": "stdout",
     "output_type": "stream",
     "text": [
      "\n",
      "Epoch 6 - Avg Loss: 0.5508\n"
     ]
    },
    {
     "name": "stderr",
     "output_type": "stream",
     "text": [
      "100%|██████████| 1557/1557 [00:27<00:00, 55.82it/s]\n",
      "100%|██████████| 390/390 [00:07<00:00, 55.46it/s]\n"
     ]
    },
    {
     "name": "stdout",
     "output_type": "stream",
     "text": [
      "Train acc 0.7322816265060241 test acc 0.728785140562249\n",
      "Current Learning Rate: 0.009\n",
      "Model saved\n"
     ]
    },
    {
     "name": "stderr",
     "output_type": "stream",
     "text": [
      "Epoch 7: 100%|███████| 1557/1557 [01:29<00:00, 17.39it/s, loss=0.5479]\n"
     ]
    },
    {
     "name": "stdout",
     "output_type": "stream",
     "text": [
      "\n",
      "Epoch 7 - Avg Loss: 0.5479\n"
     ]
    },
    {
     "name": "stderr",
     "output_type": "stream",
     "text": [
      "100%|██████████| 1557/1557 [00:27<00:00, 56.07it/s]\n",
      "100%|██████████| 390/390 [00:06<00:00, 56.61it/s]\n"
     ]
    },
    {
     "name": "stdout",
     "output_type": "stream",
     "text": [
      "Train acc 0.7346084337349398 test acc 0.7303815261044176\n",
      "Current Learning Rate: 0.009\n",
      "Model saved\n"
     ]
    },
    {
     "name": "stderr",
     "output_type": "stream",
     "text": [
      "Epoch 8: 100%|███████| 1557/1557 [01:29<00:00, 17.35it/s, loss=0.5452]\n"
     ]
    },
    {
     "name": "stdout",
     "output_type": "stream",
     "text": [
      "\n",
      "Epoch 8 - Avg Loss: 0.5452\n"
     ]
    },
    {
     "name": "stderr",
     "output_type": "stream",
     "text": [
      "100%|██████████| 1557/1557 [00:27<00:00, 55.74it/s]\n",
      "100%|██████████| 390/390 [00:06<00:00, 56.35it/s]\n"
     ]
    },
    {
     "name": "stdout",
     "output_type": "stream",
     "text": [
      "Train acc 0.734964859437751 test acc 0.7304016064257028\n",
      "Current Learning Rate: 0.009\n",
      "Model saved\n"
     ]
    },
    {
     "name": "stderr",
     "output_type": "stream",
     "text": [
      "Epoch 9: 100%|███████| 1557/1557 [01:29<00:00, 17.39it/s, loss=0.5432]\n"
     ]
    },
    {
     "name": "stdout",
     "output_type": "stream",
     "text": [
      "\n",
      "Epoch 9 - Avg Loss: 0.5432\n"
     ]
    },
    {
     "name": "stderr",
     "output_type": "stream",
     "text": [
      "100%|██████████| 1557/1557 [00:27<00:00, 55.83it/s]\n",
      "100%|██████████| 390/390 [00:07<00:00, 55.42it/s]\n"
     ]
    },
    {
     "name": "stdout",
     "output_type": "stream",
     "text": [
      "Train acc 0.7322941767068273 test acc 0.7270481927710843\n",
      "Current Learning Rate: 0.0026999999999999997\n",
      "Model saved\n"
     ]
    },
    {
     "name": "stderr",
     "output_type": "stream",
     "text": [
      "Epoch 10: 100%|██████| 1557/1557 [01:29<00:00, 17.41it/s, loss=0.5357]\n"
     ]
    },
    {
     "name": "stdout",
     "output_type": "stream",
     "text": [
      "\n",
      "Epoch 10 - Avg Loss: 0.5357\n"
     ]
    },
    {
     "name": "stderr",
     "output_type": "stream",
     "text": [
      "100%|██████████| 1557/1557 [00:27<00:00, 56.00it/s]\n",
      "100%|██████████| 390/390 [00:06<00:00, 56.44it/s]\n"
     ]
    },
    {
     "name": "stdout",
     "output_type": "stream",
     "text": [
      "Train acc 0.739515562248996 test acc 0.7313152610441767\n",
      "Current Learning Rate: 0.0026999999999999997\n",
      "Model saved\n"
     ]
    },
    {
     "name": "stderr",
     "output_type": "stream",
     "text": [
      "Epoch 11: 100%|██████| 1557/1557 [01:29<00:00, 17.38it/s, loss=0.5337]\n"
     ]
    },
    {
     "name": "stdout",
     "output_type": "stream",
     "text": [
      "\n",
      "Epoch 11 - Avg Loss: 0.5337\n"
     ]
    },
    {
     "name": "stderr",
     "output_type": "stream",
     "text": [
      "100%|██████████| 1557/1557 [00:27<00:00, 55.98it/s]\n",
      "100%|██████████| 390/390 [00:06<00:00, 56.23it/s]\n"
     ]
    },
    {
     "name": "stdout",
     "output_type": "stream",
     "text": [
      "Train acc 0.7408157630522089 test acc 0.7318373493975904\n",
      "Current Learning Rate: 0.0026999999999999997\n",
      "Model saved\n"
     ]
    },
    {
     "name": "stderr",
     "output_type": "stream",
     "text": [
      "Epoch 12: 100%|██████| 1557/1557 [01:29<00:00, 17.42it/s, loss=0.5322]\n"
     ]
    },
    {
     "name": "stdout",
     "output_type": "stream",
     "text": [
      "\n",
      "Epoch 12 - Avg Loss: 0.5322\n"
     ]
    },
    {
     "name": "stderr",
     "output_type": "stream",
     "text": [
      "100%|██████████| 1557/1557 [00:27<00:00, 55.84it/s]\n",
      "100%|██████████| 390/390 [00:06<00:00, 56.34it/s]\n"
     ]
    },
    {
     "name": "stdout",
     "output_type": "stream",
     "text": [
      "Train acc 0.7414106425702811 test acc 0.7314759036144578\n",
      "Current Learning Rate: 0.0008099999999999998\n",
      "Model saved\n"
     ]
    },
    {
     "name": "stderr",
     "output_type": "stream",
     "text": [
      "Epoch 13: 100%|██████| 1557/1557 [01:29<00:00, 17.42it/s, loss=0.5288]\n"
     ]
    },
    {
     "name": "stdout",
     "output_type": "stream",
     "text": [
      "\n",
      "Epoch 13 - Avg Loss: 0.5288\n"
     ]
    },
    {
     "name": "stderr",
     "output_type": "stream",
     "text": [
      "100%|██████████| 1557/1557 [00:27<00:00, 56.05it/s]\n",
      "100%|██████████| 390/390 [00:06<00:00, 56.43it/s]\n"
     ]
    },
    {
     "name": "stdout",
     "output_type": "stream",
     "text": [
      "Train acc 0.74347640562249 test acc 0.7327409638554216\n",
      "Current Learning Rate: 0.0008099999999999998\n",
      "Model saved\n"
     ]
    },
    {
     "name": "stderr",
     "output_type": "stream",
     "text": [
      "Epoch 14: 100%|██████| 1557/1557 [01:29<00:00, 17.39it/s, loss=0.5275]\n"
     ]
    },
    {
     "name": "stdout",
     "output_type": "stream",
     "text": [
      "\n",
      "Epoch 14 - Avg Loss: 0.5275\n"
     ]
    },
    {
     "name": "stderr",
     "output_type": "stream",
     "text": [
      "100%|██████████| 1557/1557 [00:27<00:00, 56.05it/s]\n",
      "100%|██████████| 390/390 [00:06<00:00, 56.53it/s]\n"
     ]
    },
    {
     "name": "stdout",
     "output_type": "stream",
     "text": [
      "Train acc 0.7440687751004016 test acc 0.7327911646586346\n",
      "Current Learning Rate: 0.0008099999999999998\n",
      "Model saved\n"
     ]
    },
    {
     "name": "stderr",
     "output_type": "stream",
     "text": [
      "Epoch 15: 100%|██████| 1557/1557 [01:29<00:00, 17.43it/s, loss=0.5267]\n"
     ]
    },
    {
     "name": "stdout",
     "output_type": "stream",
     "text": [
      "\n",
      "Epoch 15 - Avg Loss: 0.5267\n"
     ]
    },
    {
     "name": "stderr",
     "output_type": "stream",
     "text": [
      "100%|██████████| 1557/1557 [00:27<00:00, 55.88it/s]\n",
      "100%|██████████| 390/390 [00:06<00:00, 56.52it/s]\n"
     ]
    },
    {
     "name": "stdout",
     "output_type": "stream",
     "text": [
      "Train acc 0.7445281124497992 test acc 0.7325401606425703\n",
      "Current Learning Rate: 0.00024299999999999994\n",
      "Model saved\n"
     ]
    },
    {
     "name": "stderr",
     "output_type": "stream",
     "text": [
      "Epoch 16: 100%|██████| 1557/1557 [01:29<00:00, 17.42it/s, loss=0.5256]\n"
     ]
    },
    {
     "name": "stdout",
     "output_type": "stream",
     "text": [
      "\n",
      "Epoch 16 - Avg Loss: 0.5256\n"
     ]
    },
    {
     "name": "stderr",
     "output_type": "stream",
     "text": [
      "100%|██████████| 1557/1557 [00:27<00:00, 56.03it/s]\n",
      "100%|██████████| 390/390 [00:06<00:00, 56.45it/s]\n"
     ]
    },
    {
     "name": "stdout",
     "output_type": "stream",
     "text": [
      "Train acc 0.7451154618473895 test acc 0.7325602409638554\n",
      "Current Learning Rate: 0.00024299999999999994\n",
      "Model saved\n"
     ]
    },
    {
     "name": "stderr",
     "output_type": "stream",
     "text": [
      "Epoch 17: 100%|██████| 1557/1557 [01:29<00:00, 17.39it/s, loss=0.5250]\n"
     ]
    },
    {
     "name": "stdout",
     "output_type": "stream",
     "text": [
      "\n",
      "Epoch 17 - Avg Loss: 0.5250\n"
     ]
    },
    {
     "name": "stderr",
     "output_type": "stream",
     "text": [
      "100%|██████████| 1557/1557 [00:27<00:00, 55.97it/s]\n",
      "100%|██████████| 390/390 [00:06<00:00, 56.33it/s]\n"
     ]
    },
    {
     "name": "stdout",
     "output_type": "stream",
     "text": [
      "Train acc 0.7452836345381526 test acc 0.7326204819277109\n",
      "Current Learning Rate: 7.289999999999998e-05\n",
      "Model saved\n"
     ]
    },
    {
     "name": "stderr",
     "output_type": "stream",
     "text": [
      "Epoch 18: 100%|██████| 1557/1557 [01:29<00:00, 17.42it/s, loss=0.5245]\n"
     ]
    },
    {
     "name": "stdout",
     "output_type": "stream",
     "text": [
      "\n",
      "Epoch 18 - Avg Loss: 0.5245\n"
     ]
    },
    {
     "name": "stderr",
     "output_type": "stream",
     "text": [
      "100%|██████████| 1557/1557 [00:27<00:00, 56.04it/s]\n",
      "100%|██████████| 390/390 [00:07<00:00, 55.13it/s]\n"
     ]
    },
    {
     "name": "stdout",
     "output_type": "stream",
     "text": [
      "Train acc 0.745519578313253 test acc 0.7327510040160643\n",
      "Current Learning Rate: 7.289999999999998e-05\n",
      "Model saved\n"
     ]
    },
    {
     "name": "stderr",
     "output_type": "stream",
     "text": [
      "Epoch 19: 100%|██████| 1557/1557 [01:29<00:00, 17.40it/s, loss=0.5243]\n"
     ]
    },
    {
     "name": "stdout",
     "output_type": "stream",
     "text": [
      "\n",
      "Epoch 19 - Avg Loss: 0.5243\n"
     ]
    },
    {
     "name": "stderr",
     "output_type": "stream",
     "text": [
      "100%|██████████| 1557/1557 [00:27<00:00, 55.91it/s]\n",
      "100%|██████████| 390/390 [00:06<00:00, 56.13it/s]\n"
     ]
    },
    {
     "name": "stdout",
     "output_type": "stream",
     "text": [
      "Train acc 0.7455622489959839 test acc 0.732640562248996\n",
      "Current Learning Rate: 2.1869999999999996e-05\n",
      "Model saved\n"
     ]
    },
    {
     "name": "stderr",
     "output_type": "stream",
     "text": [
      "Epoch 20: 100%|██████| 1557/1557 [01:29<00:00, 17.38it/s, loss=0.5242]\n"
     ]
    },
    {
     "name": "stdout",
     "output_type": "stream",
     "text": [
      "\n",
      "Epoch 20 - Avg Loss: 0.5242\n"
     ]
    },
    {
     "name": "stderr",
     "output_type": "stream",
     "text": [
      "100%|██████████| 1557/1557 [00:27<00:00, 55.86it/s]\n",
      "100%|██████████| 390/390 [00:06<00:00, 56.02it/s]\n"
     ]
    },
    {
     "name": "stdout",
     "output_type": "stream",
     "text": [
      "Train acc 0.7455647590361446 test acc 0.7327208835341366\n",
      "Current Learning Rate: 2.1869999999999996e-05\n",
      "Model saved\n"
     ]
    },
    {
     "name": "stderr",
     "output_type": "stream",
     "text": [
      "Epoch 21: 100%|██████| 1557/1557 [01:29<00:00, 17.41it/s, loss=0.5240]\n"
     ]
    },
    {
     "name": "stdout",
     "output_type": "stream",
     "text": [
      "\n",
      "Epoch 21 - Avg Loss: 0.5240\n"
     ]
    },
    {
     "name": "stderr",
     "output_type": "stream",
     "text": [
      "100%|██████████| 1557/1557 [00:27<00:00, 55.90it/s]\n",
      "100%|██████████| 390/390 [00:07<00:00, 55.39it/s]\n"
     ]
    },
    {
     "name": "stdout",
     "output_type": "stream",
     "text": [
      "Train acc 0.7455496987951807 test acc 0.7327309236947791\n",
      "Current Learning Rate: 6.560999999999999e-06\n",
      "Model saved\n"
     ]
    },
    {
     "name": "stderr",
     "output_type": "stream",
     "text": [
      "Epoch 22: 100%|██████| 1557/1557 [01:29<00:00, 17.42it/s, loss=0.5239]\n"
     ]
    },
    {
     "name": "stdout",
     "output_type": "stream",
     "text": [
      "\n",
      "Epoch 22 - Avg Loss: 0.5239\n"
     ]
    },
    {
     "name": "stderr",
     "output_type": "stream",
     "text": [
      "100%|██████████| 1557/1557 [00:27<00:00, 56.08it/s]\n",
      "100%|██████████| 390/390 [00:06<00:00, 56.43it/s]\n"
     ]
    },
    {
     "name": "stdout",
     "output_type": "stream",
     "text": [
      "Train acc 0.7455471887550201 test acc 0.7327510040160643\n",
      "Current Learning Rate: 6.560999999999999e-06\n",
      "Model saved\n"
     ]
    },
    {
     "name": "stderr",
     "output_type": "stream",
     "text": [
      "Epoch 23: 100%|██████| 1557/1557 [01:29<00:00, 17.39it/s, loss=0.5238]\n"
     ]
    },
    {
     "name": "stdout",
     "output_type": "stream",
     "text": [
      "\n",
      "Epoch 23 - Avg Loss: 0.5238\n"
     ]
    },
    {
     "name": "stderr",
     "output_type": "stream",
     "text": [
      "100%|██████████| 1557/1557 [00:27<00:00, 56.08it/s]\n",
      "100%|██████████| 390/390 [00:06<00:00, 56.57it/s]\n"
     ]
    },
    {
     "name": "stdout",
     "output_type": "stream",
     "text": [
      "Train acc 0.7455371485943775 test acc 0.7327510040160643\n",
      "Current Learning Rate: 1.9682999999999994e-06\n",
      "Model saved\n"
     ]
    },
    {
     "name": "stderr",
     "output_type": "stream",
     "text": [
      "Epoch 24: 100%|██████| 1557/1557 [01:29<00:00, 17.41it/s, loss=0.5238]\n"
     ]
    },
    {
     "name": "stdout",
     "output_type": "stream",
     "text": [
      "\n",
      "Epoch 24 - Avg Loss: 0.5238\n"
     ]
    },
    {
     "name": "stderr",
     "output_type": "stream",
     "text": [
      "100%|██████████| 1557/1557 [00:27<00:00, 55.82it/s]\n",
      "100%|██████████| 390/390 [00:06<00:00, 56.43it/s]\n"
     ]
    },
    {
     "name": "stdout",
     "output_type": "stream",
     "text": [
      "Train acc 0.7455120481927711 test acc 0.7327409638554216\n",
      "Current Learning Rate: 1.9682999999999994e-06\n",
      "Model saved\n"
     ]
    },
    {
     "name": "stderr",
     "output_type": "stream",
     "text": [
      "Epoch 25: 100%|██████| 1557/1557 [01:29<00:00, 17.41it/s, loss=0.5240]\n"
     ]
    },
    {
     "name": "stdout",
     "output_type": "stream",
     "text": [
      "\n",
      "Epoch 25 - Avg Loss: 0.5240\n"
     ]
    },
    {
     "name": "stderr",
     "output_type": "stream",
     "text": [
      "100%|██████████| 1557/1557 [00:27<00:00, 55.93it/s]\n",
      "100%|██████████| 390/390 [00:06<00:00, 56.35it/s]\n"
     ]
    },
    {
     "name": "stdout",
     "output_type": "stream",
     "text": [
      "Train acc 0.7455120481927711 test acc 0.7327309236947791\n",
      "Current Learning Rate: 5.904899999999998e-07\n",
      "Model saved\n"
     ]
    },
    {
     "name": "stderr",
     "output_type": "stream",
     "text": [
      "Epoch 26: 100%|██████| 1557/1557 [01:29<00:00, 17.40it/s, loss=0.5237]\n"
     ]
    },
    {
     "name": "stdout",
     "output_type": "stream",
     "text": [
      "\n",
      "Epoch 26 - Avg Loss: 0.5237\n"
     ]
    },
    {
     "name": "stderr",
     "output_type": "stream",
     "text": [
      "100%|██████████| 1557/1557 [00:27<00:00, 56.09it/s]\n",
      "100%|██████████| 390/390 [00:06<00:00, 56.40it/s]\n"
     ]
    },
    {
     "name": "stdout",
     "output_type": "stream",
     "text": [
      "Train acc 0.7455170682730924 test acc 0.7327309236947791\n",
      "Current Learning Rate: 5.904899999999998e-07\n",
      "Model saved\n"
     ]
    },
    {
     "name": "stderr",
     "output_type": "stream",
     "text": [
      "Epoch 27: 100%|██████| 1557/1557 [01:29<00:00, 17.42it/s, loss=0.5241]\n"
     ]
    },
    {
     "name": "stdout",
     "output_type": "stream",
     "text": [
      "\n",
      "Epoch 27 - Avg Loss: 0.5241\n"
     ]
    },
    {
     "name": "stderr",
     "output_type": "stream",
     "text": [
      "100%|██████████| 1557/1557 [00:28<00:00, 55.44it/s]\n",
      "100%|██████████| 390/390 [00:06<00:00, 56.38it/s]\n"
     ]
    },
    {
     "name": "stdout",
     "output_type": "stream",
     "text": [
      "Train acc 0.7455170682730924 test acc 0.7327309236947791\n",
      "Current Learning Rate: 1.7714699999999994e-07\n",
      "Model saved\n"
     ]
    },
    {
     "name": "stderr",
     "output_type": "stream",
     "text": [
      "Epoch 28: 100%|██████| 1557/1557 [01:29<00:00, 17.41it/s, loss=0.5238]\n"
     ]
    },
    {
     "name": "stdout",
     "output_type": "stream",
     "text": [
      "\n",
      "Epoch 28 - Avg Loss: 0.5238\n"
     ]
    },
    {
     "name": "stderr",
     "output_type": "stream",
     "text": [
      "100%|██████████| 1557/1557 [00:27<00:00, 55.96it/s]\n",
      "100%|██████████| 390/390 [00:06<00:00, 56.41it/s]\n"
     ]
    },
    {
     "name": "stdout",
     "output_type": "stream",
     "text": [
      "Train acc 0.7455220883534136 test acc 0.7327309236947791\n",
      "Current Learning Rate: 1.7714699999999994e-07\n",
      "Model saved\n"
     ]
    },
    {
     "name": "stderr",
     "output_type": "stream",
     "text": [
      "Epoch 29: 100%|██████| 1557/1557 [01:29<00:00, 17.39it/s, loss=0.5240]\n"
     ]
    },
    {
     "name": "stdout",
     "output_type": "stream",
     "text": [
      "\n",
      "Epoch 29 - Avg Loss: 0.5240\n"
     ]
    },
    {
     "name": "stderr",
     "output_type": "stream",
     "text": [
      "100%|██████████| 1557/1557 [00:27<00:00, 55.94it/s]\n",
      "100%|██████████| 390/390 [00:06<00:00, 56.27it/s]\n"
     ]
    },
    {
     "name": "stdout",
     "output_type": "stream",
     "text": [
      "Train acc 0.7455271084337349 test acc 0.7327309236947791\n",
      "Current Learning Rate: 5.314409999999998e-08\n",
      "Model saved\n"
     ]
    },
    {
     "name": "stderr",
     "output_type": "stream",
     "text": [
      "Epoch 30: 100%|██████| 1557/1557 [01:29<00:00, 17.41it/s, loss=0.5241]\n"
     ]
    },
    {
     "name": "stdout",
     "output_type": "stream",
     "text": [
      "\n",
      "Epoch 30 - Avg Loss: 0.5241\n"
     ]
    },
    {
     "name": "stderr",
     "output_type": "stream",
     "text": [
      "100%|██████████| 1557/1557 [00:28<00:00, 55.43it/s]\n",
      "100%|██████████| 390/390 [00:06<00:00, 56.19it/s]\n"
     ]
    },
    {
     "name": "stdout",
     "output_type": "stream",
     "text": [
      "Train acc 0.7455296184738955 test acc 0.7327208835341366\n",
      "Current Learning Rate: 5.314409999999998e-08\n",
      "Model saved\n"
     ]
    }
   ],
   "source": [
    "epochs = 31\n",
    "from tqdm import tqdm\n",
    "\n",
    "a = len(train_loader)\n",
    "\n",
    "for epoch in range(epochs):\n",
    "    lossl = []\n",
    "    res.train()  # Set the model to training mode\n",
    "\n",
    "    progress_bar = tqdm(train_loader2, desc=f\"Epoch {epoch}\", ncols=70)\n",
    "\n",
    "    for inputs, targets in progress_bar:\n",
    "        y_pred = res(inputs.to(device))  # Ensure inputs are on the correct device\n",
    "        loss = loss_fn(y_pred, targets.long().to(device))  # Ensure targets are on the correct device\n",
    "\n",
    "        optimizer.zero_grad()\n",
    "        loss.backward()\n",
    "        optimizer.step()\n",
    "\n",
    "        lossl.append(loss.item())  # Store loss as a scalar\n",
    "        \n",
    "        # Update tqdm bar with avg loss\n",
    "        avg_loss = sum(lossl) / len(lossl)\n",
    "        progress_bar.set_postfix(loss=f\"{avg_loss:.4f}\")\n",
    "        l.append(avg_loss)\n",
    "\n",
    "    scheduler.step(int(100 * avg_loss))\n",
    "    \n",
    "    print(f\"\\nEpoch {epoch} - Avg Loss: {avg_loss:.4f}\")\n",
    "    ta=accuracy(res,train_loader2,device)\n",
    "    tea=accuracy(res,test_loader2,device)\n",
    "    acclist.append(ta)\n",
    "    accelist.append(tea)\n",
    "    print(\"Train acc\" ,ta,\"test acc\",tea)\n",
    "    \n",
    "    for param_group in optimizer.param_groups:\n",
    "        print(\"Current Learning Rate:\", param_group['lr'])\n",
    "    if ta>0.7:\n",
    "        print(\"Model saved\")\n",
    "        torch.save(res.state_dict(), f\"model_{epoch}.pth\")\n",
    "    # if epoch % 10 == 0:\n"
   ]
  },
  {
   "cell_type": "code",
   "execution_count": 13,
   "id": "2709f7d7",
   "metadata": {
    "execution": {
     "iopub.execute_input": "2025-04-02T07:02:37.041930Z",
     "iopub.status.busy": "2025-04-02T07:02:37.041553Z",
     "iopub.status.idle": "2025-04-02T07:02:37.623914Z",
     "shell.execute_reply": "2025-04-02T07:02:37.622955Z"
    },
    "papermill": {
     "duration": 4.827437,
     "end_time": "2025-04-02T07:02:37.625548",
     "exception": false,
     "start_time": "2025-04-02T07:02:32.798111",
     "status": "completed"
    },
    "tags": []
   },
   "outputs": [
    {
     "data": {
      "image/png": "[encoded data removed]",
      "text/plain": [
       "<Figure size 640x480 with 1 Axes>"
      ]
     },
     "metadata": {},
     "output_type": "display_data"
    },
    {
     "data": {
      "image/png": "[encoded data removed]",
      "text/plain": [
       "<Figure size 640x480 with 1 Axes>"
      ]
     },
     "metadata": {},
     "output_type": "display_data"
    },
    {
     "data": {
      "image/png": "[encoded data removed]",
      "text/plain": [
       "<Figure size 640x480 with 1 Axes>"
      ]
     },
     "metadata": {},
     "output_type": "display_data"
    }
   ],
   "source": [
    "import matplotlib.pyplot as plt\n",
    "\n",
    "# data = [1, 3, 5, 7, 9, 11]  # Example list\n",
    "\n",
    "plt.plot(l, linestyle='-')  # Line plot with markers\n",
    "plt.xlabel(\"Index\")\n",
    "plt.ylabel(\"Value\")\n",
    "plt.title(\"Line Plot of List Data\")\n",
    "plt.grid(True)\n",
    "plt.show()\n",
    "\n",
    "plt.plot(acclist, marker='o', linestyle='-')  # Line plot with markers\n",
    "plt.xlabel(\"Index\")\n",
    "plt.ylabel(\"Value\")\n",
    "plt.title(\"Line Plot of List Data\")\n",
    "plt.grid(True)\n",
    "plt.show()\n",
    "\n",
    "plt.plot(accelist, marker='o', linestyle='-')  # Line plot with markers\n",
    "plt.xlabel(\"Index\")\n",
    "plt.ylabel(\"Value\")\n",
    "plt.title(\"Line Plot of List Data\")\n",
    "plt.grid(True)\n",
    "plt.show()\n"
   ]
  },
  {
   "cell_type": "markdown",
   "id": "ff22d19b",
   "metadata": {
    "_cell_guid": "f671bd36-a48a-4328-ae7c-dbba195dc2fa",
    "_uuid": "978c8414-8c58-4c3f-8ae4-bddd94301979",
    "collapsed": false,
    "execution": {
     "iopub.status.busy": "2024-12-15T10:13:02.410053Z",
     "iopub.status.idle": "2024-12-15T10:13:02.410355Z",
     "shell.execute_reply": "2024-12-15T10:13:02.410222Z",
     "shell.execute_reply.started": "2024-12-15T10:13:02.410208Z"
    },
    "jupyter": {
     "outputs_hidden": false
    },
    "papermill": {
     "duration": 4.278318,
     "end_time": "2025-04-02T07:02:46.301602",
     "exception": false,
     "start_time": "2025-04-02T07:02:42.023284",
     "status": "completed"
    },
    "tags": []
   },
   "source": [
    "Epoch 1,: 100%|███████████████████| 1992/1992 [04:19<00:00,  7.68it/s]\r\n",
    "avg loss: tensor(0.5989, device='cuda:0', grad_fn=<DivBackward0>)train acc:70.28  test acc:69.97\r\n",
    "Epoch 2,: 100%|███████████████████| 1992/1992 [04:19<00:00,  7.69it/s]\r\n",
    "avg loss: tensor(0.5935, device='cuda:0', grad_fn=<DivBackward0>)train acc:70.32  test acc:70.09\r\n",
    "Epoch 3,: 100%|███████████████████| 1992/1992 [04:19<00:00,  7.69it/s]\r\n",
    "avg loss: tensor(0.5912, device='cuda:0', grad_fn=<DivBackward0>)train acc:69.78  test acc:69.42\r\n",
    "Epoch 4,: 100%|███████████████████| 1992/1992 [04:19<00:00,  7.69it/s]\r\n",
    "avg loss: tensor(0.5888, device='cuda:0', grad_fn=<DivBackward0>)train acc:69.9  test acc:69.5\r\n",
    "Epoch 5,: 100%|███████████████████| 1992/1992 [04:19<00:00,  7.69it/s]\r\n",
    "avg loss: tensor(0.5867, device='cuda:0', grad_fn=<DivBackward0>)train acc:70.38  test acc:70.04\r\n",
    "Epoch 6,: 100%|███████████████████| 1992/1992 [04:19<00:00,  7.69it/s]\r\n",
    "avg loss: tensor(0.5855, device='cuda:0', grad_fn=<DivBackward0>)train acc:70.86  test acc:70.63\r\n",
    "Epoch 7,: 100%|███████████████████| 1992/1992 [04:19<00:00,  7.69it/s]\r\n",
    "avg loss: tensor(0.5849, device='cuda:0', grad_fn=<DivBackward0>)train acc:70.19  test acc:69.88\r\n",
    "Epoch 8,: 100%|███████████████████| 1992/1992 [04:18<00:00,  7.69it/s]\r\n",
    "avg loss: tensor(0.5840, device='cuda:0', grad_fn=<DivBackward0>)train acc:71.09  test acc:70.87\r\n",
    "Epoch 9,: 100%|███████████████████| 1992/1992 [04:19<00:00,  7.69it/s]\r\n",
    "avg loss: tensor(0.5834, device='cuda:0', grad_fn=<DivBackward0>)train acc:70.58  test acc:70.22\r\n",
    "Epoch 10,: 100%|██████████████████| 1992/1992 [04:19<00:00,  7.69it/s]\r\n",
    "avg loss: tensor(0.5829, device='cuda:0', grad_fn=<DivBackward0>)train acc:70.62  test acc:70.37\r\n",
    "Epoch 11,: 100%|██████████████████| 1992/1992 [04:19<00:00,  7.69it/s]\r\n",
    "avg loss: tensor(0.5825, device='cuda:0', grad_fn=<DivBackward0>)train acc:70.64  test acc:70.35\r\n",
    "Epoch 12,: 100%|██████████████████| 1992/1992 [04:18<00:00,  7.70it/s]\r\n",
    "avg loss: tensor(0.5824, device='cuda:0', grad_fn=<DivBackward0>)train acc:71.1  test acc:70.74\r\n",
    "Epoch 13,: 100%|██████████████████| 1992/1992 [04:18<00:00,  7.70it/s]\r\n",
    "avg loss: tensor(0.5821, device='cuda:0', grad_fn=<DivBackward0>)train acc:70.86  test acc:70.53\r\n",
    "Epoch 14,: 100%|██████████████████| 1992/1992 [04:18<00:00,  7.70it/s]\r\n",
    "avg loss: tensor(0.5817, device='cuda:0', grad_fn=<DivBackward0>)train acc:70.75  test acc:70.42\r\n",
    "Epoch 15,: 100%|██████████████████| 1992/1992 [04:18<00:00,  7.70it/s]\r\n",
    "avg loss: tensor(0.5817, device='cuda:0', grad_fn=<DivBackward0>)train acc:71.5  test acc:71.29\r\n",
    "Epoch 16,: 100%|██████████████████| 1992/1992 [04:18<00:00,  7.70it/s]\r\n",
    "avg loss: tensor(0.5812, device='cuda:0', grad_fn=<DivBackward0>)train acc:71.74  test acc:71.39\r\n",
    "Epoch 17,: 100%|██████████████████| 1992/1992 [04:18<00:00,  7.70it/s]\r\n",
    "avg loss: tensor(0.5813, device='cuda:0', grad_fn=<DivBackward0>)train acc:71.53  test acc:71.29\r\n",
    "Epoch 18,: 100%|██████████████████| 1992/1992 [04:18<00:00,  7.70it/s]\r\n",
    "avg loss: tensor(0.5812, device='cuda:0', grad_fn=<DivBackward0>)train acc:71.69  test acc:71.41\r\n",
    "Epoch 19,: 100%|██████████████████| 1992/1992 [04:18<00:00,  7.70it/s]\r\n",
    "avg loss: tensor(0.5812, device='cuda:0', grad_fn=<DivBackward0>)train acc:71.43  test acc:71.18\r\n",
    "Epoch 20,: 100%|██████████████████| 1992/1992 [04:18<00:00,  7.70it/s]\r\n",
    "avg loss: tensor(0.5813, device='cuda:0', grad_fn=<DivBackward0>)train acc:71.56  test acc:71.32\r\n",
    "Epoch 21,: 100%|██████████████████| 1992/1992 [04:18<00:00,  7.70it/s]\r\n",
    "avg loss: tensor(0.5808, device='cuda:0', grad_fn=<DivBackward0>)train acc:71.65  test acc:71.38\r\n",
    "Epoch 22,: 100%|██████████████████| 1992/1992 [04:18<00:00,  7.70it/s]\r\n",
    "avg loss: tensor(0.5808, device='cuda:0', grad_fn=<DivBackward0>)train acc:71.3  test acc:70.96\r\n",
    "Epoch 23,:   8%|█▌                 | 165/1992 [00:21<03:56,  7.74it/s]"
   ]
  },
  {
   "cell_type": "code",
   "execution_count": 14,
   "id": "7fc3853e",
   "metadata": {
    "_cell_guid": "cbe32075-1389-49a2-8575-f262cc28b437",
    "_uuid": "494eeab8-ee8b-4b94-bb9e-db5b55535fc0",
    "collapsed": false,
    "execution": {
     "iopub.execute_input": "2025-04-02T07:02:54.940245Z",
     "iopub.status.busy": "2025-04-02T07:02:54.939867Z",
     "iopub.status.idle": "2025-04-02T07:02:54.945794Z",
     "shell.execute_reply": "2025-04-02T07:02:54.944801Z"
    },
    "jupyter": {
     "outputs_hidden": false
    },
    "papermill": {
     "duration": 4.202389,
     "end_time": "2025-04-02T07:02:54.947318",
     "exception": false,
     "start_time": "2025-04-02T07:02:50.744929",
     "status": "completed"
    },
    "tags": []
   },
   "outputs": [],
   "source": [
    "# Epoch 1,: 100%|█████████████████████| 200/200 [00:59<00:00,  3.35it/s]\n",
    "# avg loss: tensor(0.7078, device='cuda:0', grad_fn=<DivBackward0>)train acc:54.2  test acc:54.0\n",
    "# Epoch 2,: 100%|█████████████████████| 200/200 [00:59<00:00,  3.35it/s]\n",
    "# avg loss: tensor(0.6889, device='cuda:0', grad_fn=<DivBackward0>)train acc:61.01  test acc:61.11\n",
    "# Epoch 3,: 100%|█████████████████████| 200/200 [00:59<00:00,  3.35it/s]\n",
    "# avg loss: tensor(0.6719, device='cuda:0', grad_fn=<DivBackward0>)train acc:61.51  test acc:61.68\n",
    "# Epoch 4,: 100%|█████████████████████| 200/200 [00:59<00:00,  3.35it/s]\n",
    "# avg loss: tensor(0.6629, device='cuda:0', grad_fn=<DivBackward0>)train acc:61.51  test acc:61.68\n",
    "# Epoch 5,: 100%|█████████████████████| 200/200 [00:59<00:00,  3.35it/s]\n",
    "# avg loss: tensor(0.6579, device='cuda:0', grad_fn=<DivBackward0>)train acc:61.82  test acc:61.84\n",
    "# Epoch 6,: 100%|█████████████████████| 200/200 [00:59<00:00,  3.35it/s]\n",
    "# avg loss: tensor(0.6511, device='cuda:0', grad_fn=<DivBackward0>)train acc:64.95  test acc:64.74\n",
    "# Epoch 7,: 100%|█████████████████████| 200/200 [00:59<00:00,  3.35it/s]\n",
    "# avg loss: tensor(0.6371, device='cuda:0', grad_fn=<DivBackward0>)train acc:67.22  test acc:66.85\n",
    "# Epoch 8,: 100%|█████████████████████| 200/200 [00:59<00:00,  3.35it/s]\n",
    "# avg loss: tensor(0.6179, device='cuda:0', grad_fn=<DivBackward0>)train acc:68.04  test acc:67.53\n",
    "# Epoch 9,: 100%|█████████████████████| 200/200 [00:59<00:00,  3.35it/s]\n",
    "# avg loss: tensor(0.6086, device='cuda:0', grad_fn=<DivBackward0>)train acc:69.17  test acc:68.64\n",
    "# Epoch 10,: 100%|████████████████████| 200/200 [00:59<00:00,  3.35it/s]\n",
    "# avg loss: tensor(0.6025, device='cuda:0', grad_fn=<DivBackward0>)train acc:69.53  test acc:68.92\n",
    "# model saved\n",
    "# Epoch 11,: 100%|████████████████████| 200/200 [00:59<00:00,  3.35it/s]\n",
    "# avg loss: tensor(0.5976, device='cuda:0', grad_fn=<DivBackward0>)train acc:69.73  test acc:69.12\n",
    "# Epoch 12,: 100%|████████████████████| 200/200 [00:59<00:00,  3.34it/s]\n",
    "# avg loss: tensor(0.5934, device='cuda:0', grad_fn=<DivBackward0>)train acc:69.96  test acc:69.31\n",
    "# Epoch 13,: 100%|████████████████████| 200/200 [00:59<00:00,  3.35it/s]\n",
    "# avg loss: tensor(0.5902, device='cuda:0', grad_fn=<DivBackward0>)train acc:70.32  test acc:69.6\n",
    "# Epoch 14,: 100%|████████████████████| 200/200 [00:59<00:00,  3.35it/s]\n",
    "# avg loss: tensor(0.5883, device='cuda:0', grad_fn=<DivBackward0>)train acc:70.56  test acc:69.75\n",
    "# Epoch 15,: 100%|████████████████████| 200/200 [00:59<00:00,  3.35it/s]\n",
    "# avg loss: tensor(0.5860, device='cuda:0', grad_fn=<DivBackward0>)train acc:70.71  test acc:69.92\n",
    "# Epoch 16,: 100%|████████████████████| 200/200 [00:59<00:00,  3.35it/s]\n",
    "# avg loss: tensor(0.5842, device='cuda:0', grad_fn=<DivBackward0>)train acc:70.59  test acc:69.8\n",
    "# Epoch 17,: 100%|████████████████████| 200/200 [00:59<00:00,  3.35it/s]\n",
    "# avg loss: tensor(0.5824, device='cuda:0', grad_fn=<DivBackward0>)train acc:70.58  test acc:69.77\n",
    "# Epoch 18,: 100%|████████████████████| 200/200 [00:59<00:00,  3.35it/s]\n",
    "# avg loss: tensor(0.5807, device='cuda:0', grad_fn=<DivBackward0>)train acc:70.72  test acc:69.97\n",
    "# Epoch 19,: 100%|████████████████████| 200/200 [00:59<00:00,  3.35it/s]\n",
    "# avg loss: tensor(0.5797, device='cuda:0', grad_fn=<DivBackward0>)train acc:70.68  test acc:69.99\n",
    "# Epoch 20,: 100%|████████████████████| 200/200 [00:59<00:00,  3.35it/s]\n",
    "# avg loss: tensor(0.5771, device='cuda:0', grad_fn=<DivBackward0>)train acc:71.11  test acc:70.24\n",
    "# model saved\n",
    "# Epoch 21,: 100%|████████████████████| 200/200 [00:59<00:00,  3.35it/s]\n",
    "# avg loss: tensor(0.5758, device='cuda:0', grad_fn=<DivBackward0>)train acc:71.4  test acc:70.42\n",
    "# Epoch 22,: 100%|████████████████████| 200/200 [00:59<00:00,  3.35it/s]\n",
    "# avg loss: tensor(0.5743, device='cuda:0', grad_fn=<DivBackward0>)train acc:71.5  test acc:70.45\n",
    "# Epoch 23,: 100%|████████████████████| 200/200 [00:59<00:00,  3.35it/s]\n",
    "# avg loss: tensor(0.5731, device='cuda:0', grad_fn=<DivBackward0>)train acc:71.4  test acc:70.47\n",
    "# Epoch 24,: 100%|████████████████████| 200/200 [00:59<00:00,  3.34it/s]\n",
    "# avg loss: tensor(0.5714, device='cuda:0', grad_fn=<DivBackward0>)train acc:71.67  test acc:70.57\n",
    "# Epoch 25,: 100%|████████████████████| 200/200 [00:59<00:00,  3.35it/s]\n",
    "# avg loss: tensor(0.5700, device='cuda:0', grad_fn=<DivBackward0>)train acc:71.75  test acc:70.73\n",
    "# Epoch 26,: 100%|████████████████████| 200/200 [00:59<00:00,  3.35it/s]\n",
    "# avg loss: tensor(0.5687, device='cuda:0', grad_fn=<DivBackward0>)train acc:72.03  test acc:70.72\n",
    "# Epoch 27,: 100%|████████████████████| 200/200 [00:59<00:00,  3.35it/s]\n",
    "# avg loss: tensor(0.5673, device='cuda:0', grad_fn=<DivBackward0>)train acc:71.8  test acc:70.71\n",
    "# Epoch 28,: 100%|████████████████████| 200/200 [00:59<00:00,  3.35it/s]\n",
    "# avg loss: tensor(0.5663, device='cuda:0', grad_fn=<DivBackward0>)train acc:72.14  test acc:70.81\n",
    "# Epoch 29,: 100%|████████████████████| 200/200 [00:59<00:00,  3.35it/s]\n",
    "# avg loss: tensor(0.5648, device='cuda:0', grad_fn=<DivBackward0>)train acc:71.93  test acc:70.73\n",
    "# Epoch 30,: 100%|████████████████████| 200/200 [00:59<00:00,  3.35it/s]\n",
    "# avg loss: tensor(0.5636, device='cuda:0', grad_fn=<DivBackward0>)train acc:72.22  test acc:70.76\n",
    "# model saved\n",
    "# Epoch 31,: 100%|████████████████████| 200/200 [00:59<00:00,  3.35it/s]\n",
    "# avg loss: tensor(0.5630, device='cuda:0', grad_fn=<DivBackward0>)train acc:72.2  test acc:70.77\n",
    "# Epoch 32,: 100%|████████████████████| 200/200 [00:59<00:00,  3.34it/s]\n",
    "# avg loss: tensor(0.5622, device='cuda:0', grad_fn=<DivBackward0>)train acc:72.27  test acc:70.83\n",
    "# Epoch 33,: 100%|████████████████████| 200/200 [00:59<00:00,  3.35it/s]\n",
    "# avg loss: tensor(0.5606, device='cuda:0', grad_fn=<DivBackward0>)train acc:72.65  test acc:70.96\n",
    "# Epoch 34,: 100%|████████████████████| 200/200 [00:59<00:00,  3.35it/s]\n",
    "# avg loss: tensor(0.5590, device='cuda:0', grad_fn=<DivBackward0>)train acc:71.86  test acc:70.45\n",
    "# Epoch 35,: 100%|████████████████████| 200/200 [00:59<00:00,  3.35it/s]\n",
    "# avg loss: tensor(0.5580, device='cuda:0', grad_fn=<DivBackward0>)train acc:72.59  test acc:70.92\n",
    "# Epoch 36,: 100%|████████████████████| 200/200 [00:59<00:00,  3.35it/s]\n",
    "# avg loss: tensor(0.5567, device='cuda:0', grad_fn=<DivBackward0>)train acc:72.4  test acc:70.84\n",
    "# Epoch 37,: 100%|████████████████████| 200/200 [00:59<00:00,  3.35it/s]\n",
    "# avg loss: tensor(0.5560, device='cuda:0', grad_fn=<DivBackward0>)train acc:72.75  test acc:71.2\n",
    "# Epoch 38,: 100%|████████████████████| 200/200 [00:59<00:00,  3.34it/s]\n",
    "# avg loss: tensor(0.5550, device='cuda:0', grad_fn=<DivBackward0>)train acc:72.89  test acc:71.18\n",
    "# Epoch 39,: 100%|████████████████████| 200/200 [00:59<00:00,  3.35it/s]\n",
    "# avg loss: tensor(0.5538, device='cuda:0', grad_fn=<DivBackward0>)train acc:72.83  test acc:71.03\n",
    "# Epoch 40,: 100%|████████████████████| 200/200 [00:59<00:00,  3.34it/s]\n",
    "# avg loss: tensor(0.5528, device='cuda:0', grad_fn=<DivBackward0>)train acc:72.69  test acc:70.96\n",
    "# model saved\n",
    "# Epoch 41,: 100%|████████████████████| 200/200 [00:59<00:00,  3.35it/s]\n",
    "# avg loss: tensor(0.5519, device='cuda:0', grad_fn=<DivBackward0>)train acc:73.07  test acc:71.16\n",
    "# Epoch 42,: 100%|████████████████████| 200/200 [00:59<00:00,  3.35it/s]\n",
    "# avg loss: tensor(0.5512, device='cuda:0', grad_fn=<DivBackward0>)train acc:72.89  test acc:71.01\n",
    "# Epoch 43,: 100%|████████████████████| 200/200 [00:59<00:00,  3.35it/s]\n",
    "# avg loss: tensor(0.5501, device='cuda:0', grad_fn=<DivBackward0>)train acc:73.4  test acc:71.27\n",
    "# Epoch 44,: 100%|████████████████████| 200/200 [00:59<00:00,  3.35it/s]\n",
    "# avg loss: tensor(0.5496, device='cuda:0', grad_fn=<DivBackward0>)train acc:73.55  test acc:71.28\n",
    "# Epoch 45,: 100%|████████████████████| 200/200 [00:59<00:00,  3.35it/s]\n",
    "# avg loss: tensor(0.5484, device='cuda:0', grad_fn=<DivBackward0>)train acc:73.64  test acc:71.22\n",
    "# Epoch 46,: 100%|████████████████████| 200/200 [00:59<00:00,  3.35it/s]\n",
    "# avg loss: tensor(0.5481, device='cuda:0', grad_fn=<DivBackward0>)train acc:73.54  test acc:71.31\n",
    "# Epoch 47,: 100%|████████████████████| 200/200 [00:59<00:00,  3.35it/s]\n",
    "# avg loss: tensor(0.5468, device='cuda:0', grad_fn=<DivBackward0>)train acc:73.57  test acc:71.22\n",
    "# Epoch 48,: 100%|████████████████████| 200/200 [00:59<00:00,  3.35it/s]\n",
    "# avg loss: tensor(0.5468, device='cuda:0', grad_fn=<DivBackward0>)train acc:73.68  test acc:71.15\n",
    "# Epoch 49,: 100%|████████████████████| 200/200 [00:59<00:00,  3.35it/s]\n",
    "# avg loss: tensor(0.5455, device='cuda:0', grad_fn=<DivBackward0>)train acc:73.64  test acc:71.26\n",
    "# Epoch 50,: 100%|████████████████████| 200/200 [00:59<00:00,  3.35it/s]\n",
    "# avg loss: tensor(0.5448, device='cuda:0', grad_fn=<DivBackward0>)train acc:73.75  test acc:71.4\n",
    "# model saved\n",
    "# Epoch 51,: 100%|████████████████████| 200/200 [00:59<00:00,  3.35it/s]\n",
    "# avg loss: tensor(0.5444, device='cuda:0', grad_fn=<DivBackward0>)train acc:73.94  test acc:71.5\n",
    "# Epoch 52,: 100%|████████████████████| 200/200 [00:59<00:00,  3.35it/s]\n",
    "# avg loss: tensor(0.5428, device='cuda:0', grad_fn=<DivBackward0>)train acc:73.96  test acc:71.28\n",
    "# Epoch 53,: 100%|████████████████████| 200/200 [00:59<00:00,  3.35it/s]\n",
    "# avg loss: tensor(0.5422, device='cuda:0', grad_fn=<DivBackward0>)train acc:74.15  test acc:71.42\n",
    "# Epoch 54,: 100%|████████████████████| 200/200 [00:59<00:00,  3.35it/s]\n",
    "# avg loss: tensor(0.5417, device='cuda:0', grad_fn=<DivBackward0>)train acc:73.74  test acc:71.01\n",
    "# Epoch 55,: 100%|████████████████████| 200/200 [00:59<00:00,  3.35it/s]\n",
    "# avg loss: tensor(0.5405, device='cuda:0', grad_fn=<DivBackward0>)train acc:74.28  test acc:71.45\n",
    "# Epoch 56,: 100%|████████████████████| 200/200 [00:59<00:00,  3.35it/s]\n",
    "# avg loss: tensor(0.5397, device='cuda:0', grad_fn=<DivBackward0>)train acc:74.15  test acc:71.44\n",
    "# Epoch 57,: 100%|████████████████████| 200/200 [00:59<00:00,  3.35it/s]\n",
    "# avg loss: tensor(0.5392, device='cuda:0', grad_fn=<DivBackward0>)train acc:74.06  test acc:71.03\n",
    "# Epoch 58,: 100%|████████████████████| 200/200 [00:59<00:00,  3.35it/s]\n",
    "# avg loss: tensor(0.5383, device='cuda:0', grad_fn=<DivBackward0>)train acc:74.41  test acc:71.41\n",
    "# Epoch 59,: 100%|████████████████████| 200/200 [00:59<00:00,  3.35it/s]\n",
    "# avg loss: tensor(0.5378, device='cuda:0', grad_fn=<DivBackward0>)train acc:74.42  test acc:71.36\n",
    "# Epoch 60,: 100%|████████████████████| 200/200 [00:59<00:00,  3.35it/s]\n",
    "# avg loss: tensor(0.5379, device='cuda:0', grad_fn=<DivBackward0>)train acc:74.25  test acc:71.23\n",
    "# model saved\n",
    "# Epoch 61,: 100%|████████████████████| 200/200 [00:59<00:00,  3.35it/s]\n",
    "# avg loss: tensor(0.5371, device='cuda:0', grad_fn=<DivBackward0>)train acc:74.36  test acc:71.42\n",
    "# Epoch 62,: 100%|████████████████████| 200/200 [00:59<00:00,  3.35it/s]\n",
    "# avg loss: tensor(0.5393, device='cuda:0', grad_fn=<DivBackward0>)train acc:74.44  test acc:71.35\n",
    "# Epoch 63,: 100%|████████████████████| 200/200 [00:59<00:00,  3.35it/s]\n",
    "# avg loss: tensor(0.5362, device='cuda:0', grad_fn=<DivBackward0>)train acc:74.52  test acc:71.4\n",
    "# Epoch 64,: 100%|████████████████████| 200/200 [00:59<00:00,  3.35it/s]\n",
    "# avg loss: tensor(0.5351, device='cuda:0', grad_fn=<DivBackward0>)train acc:74.62  test acc:71.45\n",
    "# Epoch 65,: 100%|████████████████████| 200/200 [00:59<00:00,  3.35it/s]\n",
    "# avg loss: tensor(0.5341, device='cuda:0', grad_fn=<DivBackward0>)train acc:74.56  test acc:71.21\n",
    "# Epoch 66,: 100%|████████████████████| 200/200 [00:59<00:00,  3.35it/s]\n",
    "# avg loss: tensor(0.5334, device='cuda:0', grad_fn=<DivBackward0>)train acc:74.73  test acc:71.37\n",
    "# Epoch 67,: 100%|████████████████████| 200/200 [00:59<00:00,  3.35it/s]\n",
    "# avg loss: tensor(0.5328, device='cuda:0', grad_fn=<DivBackward0>)train acc:74.7  test acc:71.33\n",
    "# Epoch 68,: 100%|████████████████████| 200/200 [00:59<00:00,  3.35it/s]\n",
    "# avg loss: tensor(0.5323, device='cuda:0', grad_fn=<DivBackward0>)train acc:74.74  test acc:71.41\n",
    "# Epoch 69,: 100%|████████████████████| 200/200 [00:59<00:00,  3.35it/s]\n",
    "# avg loss: tensor(0.5311, device='cuda:0', grad_fn=<DivBackward0>)train acc:74.84  test acc:71.41\n",
    "# Epoch 70,: 100%|████████████████████| 200/200 [00:59<00:00,  3.35it/s]\n",
    "# avg loss: tensor(0.5309, device='cuda:0', grad_fn=<DivBackward0>)train acc:74.9  test acc:71.36\n",
    "# model saved\n",
    "# Epoch 71,: 100%|████████████████████| 200/200 [00:59<00:00,  3.35it/s]\n",
    "# avg loss: tensor(0.5298, device='cuda:0', grad_fn=<DivBackward0>)train acc:74.93  test acc:71.24"
   ]
  },
  {
   "cell_type": "code",
   "execution_count": 15,
   "id": "a6150f99",
   "metadata": {
    "_cell_guid": "2a4ae8db-0dd4-41e3-8f28-29a00b8e501a",
    "_uuid": "ee8ebd75-36e7-4b92-af89-f3874aa908d5",
    "collapsed": false,
    "execution": {
     "iopub.execute_input": "2025-04-02T07:03:03.562622Z",
     "iopub.status.busy": "2025-04-02T07:03:03.562295Z",
     "iopub.status.idle": "2025-04-02T07:03:03.567036Z",
     "shell.execute_reply": "2025-04-02T07:03:03.566160Z"
    },
    "jupyter": {
     "outputs_hidden": false
    },
    "papermill": {
     "duration": 4.263861,
     "end_time": "2025-04-02T07:03:03.568335",
     "exception": false,
     "start_time": "2025-04-02T07:02:59.304474",
     "status": "completed"
    },
    "tags": []
   },
   "outputs": [
    {
     "name": "stdout",
     "output_type": "stream",
     "text": [
      "Current Learning Rate: 5.314409999999998e-08\n"
     ]
    }
   ],
   "source": [
    "for param_group in optimizer.param_groups:\n",
    "    print(\"Current Learning Rate:\", param_group['lr'])"
   ]
  },
  {
   "cell_type": "code",
   "execution_count": 16,
   "id": "8967935e",
   "metadata": {
    "_cell_guid": "5f683a76-0ecb-4f75-9c84-61eeeccabf5b",
    "_uuid": "5159c910-0292-49c1-8a00-5110b956cab8",
    "collapsed": false,
    "execution": {
     "iopub.execute_input": "2025-04-02T07:03:12.203195Z",
     "iopub.status.busy": "2025-04-02T07:03:12.202835Z",
     "iopub.status.idle": "2025-04-02T07:03:12.206299Z",
     "shell.execute_reply": "2025-04-02T07:03:12.205489Z"
    },
    "jupyter": {
     "outputs_hidden": false
    },
    "papermill": {
     "duration": 4.14494,
     "end_time": "2025-04-02T07:03:12.207735",
     "exception": false,
     "start_time": "2025-04-02T07:03:08.062795",
     "status": "completed"
    },
    "tags": []
   },
   "outputs": [],
   "source": [
    "# torch.save(obj=res2.state_dict(), f=\"model_final\"+\".pth\")"
   ]
  },
  {
   "cell_type": "code",
   "execution_count": 17,
   "id": "d5c2d552",
   "metadata": {
    "_cell_guid": "54a889aa-f7d7-4a5e-b396-a72b6076401a",
    "_uuid": "6dec9257-98d6-4b8e-8f17-a633453103df",
    "collapsed": false,
    "execution": {
     "iopub.execute_input": "2025-04-02T07:03:20.965748Z",
     "iopub.status.busy": "2025-04-02T07:03:20.965451Z",
     "iopub.status.idle": "2025-04-02T07:03:20.969087Z",
     "shell.execute_reply": "2025-04-02T07:03:20.968185Z"
    },
    "jupyter": {
     "outputs_hidden": false
    },
    "papermill": {
     "duration": 4.217053,
     "end_time": "2025-04-02T07:03:20.970533",
     "exception": false,
     "start_time": "2025-04-02T07:03:16.753480",
     "status": "completed"
    },
    "tags": []
   },
   "outputs": [],
   "source": [
    "# import os\n",
    "# import shutil\n",
    "\n",
    "# # Get current working directory\n",
    "# cwd = os.getcwd()\n",
    "\n",
    "# # Loop through all files and folders in the directory\n",
    "# for item in os.listdir(cwd):\n",
    "#     item_path = os.path.join(cwd, item)\n",
    "#     try:\n",
    "#         if os.path.isfile(item_path) or os.path.islink(item_path):\n",
    "#             os.unlink(item_path)  # Remove file or symbolic link\n",
    "#         elif os.path.isdir(item_path):\n",
    "#             shutil.rmtree(item_path)  # Remove directory and contents\n",
    "#     except Exception as e:\n",
    "#         print(f\"Failed to delete {item_path}: {e}\")\n",
    "\n",
    "# print(\"All files and folders deleted from:\", cwd)\n"
   ]
  },
  {
   "cell_type": "code",
   "execution_count": null,
   "id": "67c7e70b",
   "metadata": {
    "papermill": {
     "duration": 4.174061,
     "end_time": "2025-04-02T07:03:29.543205",
     "exception": false,
     "start_time": "2025-04-02T07:03:25.369144",
     "status": "completed"
    },
    "tags": []
   },
   "outputs": [],
   "source": []
  }
 ],
 "metadata": {
  "kaggle": {
   "accelerator": "gpu",
   "dataSources": [
    {
     "datasetId": 6106811,
     "isSourceIdPinned": false,
     "sourceId": 9933956,
     "sourceType": "datasetVersion"
    }
   ],
   "dockerImageVersionId": 30919,
   "isGpuEnabled": true,
   "isInternetEnabled": true,
   "language": "python",
   "sourceType": "notebook"
  },
  "kernelspec": {
   "display_name": "Python 3",
   "language": "python",
   "name": "python3"
  },
  "language_info": {
   "codemirror_mode": {
    "name": "ipython",
    "version": 3
   },
   "file_extension": ".py",
   "mimetype": "text/x-python",
   "name": "python",
   "nbconvert_exporter": "python",
   "pygments_lexer": "ipython3",
   "version": "3.10.12"
  },
  "papermill": {
   "default_parameters": {},
   "duration": 3957.542569,
   "end_time": "2025-04-02T07:03:35.638028",
   "environment_variables": {},
   "exception": null,
   "input_path": "__notebook__.ipynb",
   "output_path": "__notebook__.ipynb",
   "parameters": {},
   "start_time": "2025-04-02T05:57:38.095459",
   "version": "2.6.0"
  }
 },
 "nbformat": 4,
 "nbformat_minor": 5
}
